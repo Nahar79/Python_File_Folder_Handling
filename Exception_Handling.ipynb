{
 "cells": [
  {
   "cell_type": "markdown",
   "metadata": {},
   "source": [
    "## Try and Except"
   ]
  },
  {
   "cell_type": "code",
   "execution_count": 3,
   "metadata": {},
   "outputs": [
    {
     "name": "stdout",
     "output_type": "stream",
     "text": [
      "division by zero\n",
      "Welcome\n"
     ]
    }
   ],
   "source": [
    "try:\n",
    "     num = int(input())\n",
    "     div = int(input())\n",
    "     res = num/div\n",
    "     print(res)\n",
    "except Exception as e:\n",
    "     print(e)\n",
    "print(\"Welcome\")"
   ]
  },
  {
   "cell_type": "code",
   "execution_count": 5,
   "metadata": {},
   "outputs": [
    {
     "name": "stdout",
     "output_type": "stream",
     "text": [
      "invalid literal for int() with base 10: 'tth'\n",
      "Welcome\n"
     ]
    }
   ],
   "source": [
    "from decimal import DivisionByZero\n",
    "\n",
    "try:\n",
    "     num = int(input())\n",
    "     div = int(input())\n",
    "     res = num/div\n",
    "     print(res)\n",
    "except ZeroDivisionError as e:\n",
    "     print(e)\n",
    "     res = num/1\n",
    "     print(res)\n",
    "except ValueError as e:\n",
    "     print(e)\n",
    "     \n",
    "print(\"Welcome\")"
   ]
  },
  {
   "cell_type": "code",
   "execution_count": 6,
   "metadata": {},
   "outputs": [
    {
     "name": "stdout",
     "output_type": "stream",
     "text": [
      "not readable\n",
      "Welcome\n"
     ]
    }
   ],
   "source": [
    "try:\n",
    "    file = open('file.txt', mode='w')\n",
    "    print(file.read())\n",
    "except Exception as e:\n",
    "    print(e)\n",
    "    file.write('Data')\n",
    "finally:\n",
    "    file.close()\n",
    "print(\"Welcome\")"
   ]
  },
  {
   "cell_type": "code",
   "execution_count": 9,
   "metadata": {},
   "outputs": [
    {
     "name": "stdout",
     "output_type": "stream",
     "text": [
      "No Exception\n",
      "Welcome\n"
     ]
    }
   ],
   "source": [
    "try:\n",
    "    file = open('file.txt', mode='w')\n",
    "    #print(file.read())\n",
    "except Exception as e:\n",
    "    print(e)\n",
    "    file.write('Data is precious and oxigen of new economy')\n",
    "\n",
    "else:\n",
    "    print('No Exception')\n",
    "finally:\n",
    "    file.close()\n",
    "print(\"Welcome\")"
   ]
  },
  {
   "cell_type": "markdown",
   "metadata": {},
   "source": [
    "## Custom Exception "
   ]
  },
  {
   "cell_type": "code",
   "execution_count": 11,
   "metadata": {},
   "outputs": [],
   "source": [
    "class SalaryBelowTresholdError(Exception):\n",
    "    pass"
   ]
  },
  {
   "cell_type": "code",
   "execution_count": 14,
   "metadata": {},
   "outputs": [
    {
     "ename": "SalaryBelowTresholdError",
     "evalue": "Salary is below threshold",
     "output_type": "error",
     "traceback": [
      "\u001b[1;31m---------------------------------------------------------------------------\u001b[0m",
      "\u001b[1;31mSalaryBelowTresholdError\u001b[0m                  Traceback (most recent call last)",
      "Cell \u001b[1;32mIn [14], line 3\u001b[0m\n\u001b[0;32m      1\u001b[0m salary \u001b[39m=\u001b[39m \u001b[39m25000.0\u001b[39m\n\u001b[0;32m      2\u001b[0m \u001b[39mif\u001b[39;00m salary \u001b[39m<\u001b[39m \u001b[39m40000.00\u001b[39m:\n\u001b[1;32m----> 3\u001b[0m     \u001b[39mraise\u001b[39;00m SalaryBelowTresholdError (\u001b[39m'\u001b[39m\u001b[39mSalary is below threshold\u001b[39m\u001b[39m'\u001b[39m)\n",
      "\u001b[1;31mSalaryBelowTresholdError\u001b[0m: Salary is below threshold"
     ]
    }
   ],
   "source": [
    "salary = 25000.0\n",
    "if salary < 40000.00:\n",
    "    raise SalaryBelowTresholdError ('Salary is below threshold')"
   ]
  },
  {
   "cell_type": "code",
   "execution_count": 15,
   "metadata": {},
   "outputs": [
    {
     "name": "stdout",
     "output_type": "stream",
     "text": [
      "Salary is below threshold\n"
     ]
    }
   ],
   "source": [
    "try:\n",
    "    salary = 35000.0\n",
    "    if salary < 40000.00:\n",
    "        raise SalaryBelowTresholdError ('Salary is below threshold')\n",
    "except SalaryBelowTresholdError as e:\n",
    "    print(e)"
   ]
  },
  {
   "cell_type": "markdown",
   "metadata": {},
   "source": [
    "## Assertion Error"
   ]
  },
  {
   "cell_type": "code",
   "execution_count": 17,
   "metadata": {},
   "outputs": [
    {
     "ename": "AssertionError",
     "evalue": "Not in Vowels!",
     "output_type": "error",
     "traceback": [
      "\u001b[1;31m---------------------------------------------------------------------------\u001b[0m",
      "\u001b[1;31mAssertionError\u001b[0m                            Traceback (most recent call last)",
      "Cell \u001b[1;32mIn [17], line 4\u001b[0m\n\u001b[0;32m      1\u001b[0m vowels \u001b[39m=\u001b[39m \u001b[39m'\u001b[39m\u001b[39maeiouAEIOU\u001b[39m\u001b[39m'\u001b[39m\n\u001b[0;32m      2\u001b[0m alphabet \u001b[39m=\u001b[39m \u001b[39m'\u001b[39m\u001b[39mB\u001b[39m\u001b[39m'\u001b[39m\n\u001b[1;32m----> 4\u001b[0m \u001b[39massert\u001b[39;00m alphabet \u001b[39min\u001b[39;00m vowels, \u001b[39m'\u001b[39m\u001b[39mNot in Vowels!\u001b[39m\u001b[39m'\u001b[39m\n",
      "\u001b[1;31mAssertionError\u001b[0m: Not in Vowels!"
     ]
    }
   ],
   "source": [
    "vowels = 'aeiouAEIOU'\n",
    "alphabet = 'B'\n",
    "\n",
    "assert alphabet in vowels, 'Not in Vowels!'"
   ]
  }
 ],
 "metadata": {
  "kernelspec": {
   "display_name": "Python 3.10.7 64-bit",
   "language": "python",
   "name": "python3"
  },
  "language_info": {
   "codemirror_mode": {
    "name": "ipython",
    "version": 3
   },
   "file_extension": ".py",
   "mimetype": "text/x-python",
   "name": "python",
   "nbconvert_exporter": "python",
   "pygments_lexer": "ipython3",
   "version": "3.10.7"
  },
  "orig_nbformat": 4,
  "vscode": {
   "interpreter": {
    "hash": "c19fa61d258bb2b35aae2ada233c33e2817c1ce895aa48acba720c6bf7cbe3cb"
   }
  }
 },
 "nbformat": 4,
 "nbformat_minor": 2
}
