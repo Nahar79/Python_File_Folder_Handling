{
 "cells": [
  {
   "cell_type": "markdown",
   "metadata": {},
   "source": [
    "## File read and write"
   ]
  },
  {
   "cell_type": "code",
   "execution_count": 43,
   "metadata": {},
   "outputs": [],
   "source": [
    "file = open('file1.txt', mode='w')\n",
    "file.write('Line 1')\n",
    "file.close()\n"
   ]
  },
  {
   "cell_type": "code",
   "execution_count": 44,
   "metadata": {},
   "outputs": [],
   "source": [
    "file = open('file1.txt', mode='w')\n",
    "file.write('Line 1')\n",
    "file.writelines([\n",
    "    '\\nLine 2', '\\nLine 3', '\\nLine 4'\n",
    "    ])\n",
    "file.close()"
   ]
  },
  {
   "cell_type": "code",
   "execution_count": 45,
   "metadata": {},
   "outputs": [],
   "source": [
    "#append mode\n",
    "file = open('file1.txt', mode='a')\n",
    "file.writelines([\n",
    "    '\\nLine 895', '\\nLine 347523', '\\nLine test writing'\n",
    "    ])\n",
    "file.close()"
   ]
  },
  {
   "cell_type": "code",
   "execution_count": 46,
   "metadata": {},
   "outputs": [
    {
     "ename": "FileExistsError",
     "evalue": "[Errno 17] File exists: 'file1.txt'",
     "output_type": "error",
     "traceback": [
      "\u001b[1;31m---------------------------------------------------------------------------\u001b[0m",
      "\u001b[1;31mFileExistsError\u001b[0m                           Traceback (most recent call last)",
      "Cell \u001b[1;32mIn [46], line 2\u001b[0m\n\u001b[0;32m      1\u001b[0m \u001b[39m# exclusive mode, also work like file write mode , thats why give file existing error\u001b[39;00m\n\u001b[1;32m----> 2\u001b[0m file \u001b[39m=\u001b[39m \u001b[39mopen\u001b[39m(\u001b[39m'\u001b[39m\u001b[39mfile1.txt\u001b[39m\u001b[39m'\u001b[39m, mode\u001b[39m=\u001b[39m\u001b[39m'\u001b[39m\u001b[39mx\u001b[39m\u001b[39m'\u001b[39m)\n\u001b[0;32m      3\u001b[0m file\u001b[39m.\u001b[39mwritelines([\n\u001b[0;32m      4\u001b[0m     \u001b[39m'\u001b[39m\u001b[39m\\n\u001b[39;00m\u001b[39mLine 895\u001b[39m\u001b[39m'\u001b[39m, \u001b[39m'\u001b[39m\u001b[39m\\n\u001b[39;00m\u001b[39mLine 347523\u001b[39m\u001b[39m'\u001b[39m, \u001b[39m'\u001b[39m\u001b[39m\\n\u001b[39;00m\u001b[39mLine test writing\u001b[39m\u001b[39m'\u001b[39m\n\u001b[0;32m      5\u001b[0m     ])\n\u001b[0;32m      6\u001b[0m file\u001b[39m.\u001b[39mclose()\n",
      "\u001b[1;31mFileExistsError\u001b[0m: [Errno 17] File exists: 'file1.txt'"
     ]
    }
   ],
   "source": [
    "# exclusive mode, also work like file write mode , thats why give file existing error\n",
    "file = open('file1.txt', mode='x')\n",
    "file.writelines([\n",
    "    '\\nLine 895', '\\nLine 347523', '\\nLine test writing'\n",
    "    ])\n",
    "file.close()"
   ]
  },
  {
   "cell_type": "code",
   "execution_count": 47,
   "metadata": {},
   "outputs": [
    {
     "name": "stdout",
     "output_type": "stream",
     "text": [
      "Line 1\n",
      "Line 2\n",
      "Line 3\n",
      "Line 4\n",
      "Line 895\n",
      "Line 347523\n",
      "Line test writing\n"
     ]
    }
   ],
   "source": [
    "# read mode\n",
    "file = open('file1.txt', mode='r')\n",
    "print(file.read())\n",
    "file.close()"
   ]
  },
  {
   "cell_type": "code",
   "execution_count": 50,
   "metadata": {},
   "outputs": [
    {
     "name": "stdout",
     "output_type": "stream",
     "text": [
      "\n",
      "Line 2\n",
      "Line 3\n",
      "Line 4\n",
      "Line 895\n",
      "Line 347523\n",
      "Line test writing\n"
     ]
    }
   ],
   "source": [
    "# read mode\n",
    "file = open('file1.txt', mode='r')\n",
    "file.seek(7)\n",
    "print(file.read())\n",
    "file.close()"
   ]
  },
  {
   "cell_type": "code",
   "execution_count": 51,
   "metadata": {},
   "outputs": [
    {
     "name": "stdout",
     "output_type": "stream",
     "text": [
      "Line 1\n",
      "Li\n"
     ]
    }
   ],
   "source": [
    "# read mode\n",
    "file = open('file1.txt', mode='r')\n",
    "print(file.read(9))\n",
    "file.close()"
   ]
  },
  {
   "cell_type": "code",
   "execution_count": 52,
   "metadata": {},
   "outputs": [
    {
     "name": "stdout",
     "output_type": "stream",
     "text": [
      "['Line 1\\n', 'Line 2\\n', 'Line 3\\n', 'Line 4\\n', 'Line 895\\n', 'Line 347523\\n', 'Line test writing']\n",
      "False\n"
     ]
    }
   ],
   "source": [
    "# read mode\n",
    "file = open('file1.txt', mode='r')\n",
    "print(file.readlines())\n",
    "print(file.writable())\n",
    "file.close()"
   ]
  },
  {
   "cell_type": "code",
   "execution_count": 32,
   "metadata": {},
   "outputs": [
    {
     "name": "stdout",
     "output_type": "stream",
     "text": [
      "['\\n', 'Line 7']\n"
     ]
    }
   ],
   "source": [
    "# Read and write mode \n",
    "file = open('file1.txt', mode='r+')\n",
    "print(file.readlines())\n",
    "file.write('\\nLine 7')\n",
    "file.close()\n",
    "\n"
   ]
  },
  {
   "cell_type": "code",
   "execution_count": 34,
   "metadata": {},
   "outputs": [
    {
     "name": "stdout",
     "output_type": "stream",
     "text": [
      "[b'\\r\\n', b'Line 7\\r\\n', b'Line 7']\n"
     ]
    }
   ],
   "source": [
    "# binary mode\n",
    "file = open('file1.txt', mode='rb')\n",
    "print(file.readlines())\n",
    "file.close()"
   ]
  },
  {
   "cell_type": "markdown",
   "metadata": {},
   "source": [
    "## File With Session"
   ]
  },
  {
   "cell_type": "code",
   "execution_count": 39,
   "metadata": {},
   "outputs": [
    {
     "name": "stdout",
     "output_type": "stream",
     "text": [
      "[b'\\r\\n', b'Line 7\\r\\n', b'Line 7']\n"
     ]
    },
    {
     "data": {
      "text/plain": [
       "True"
      ]
     },
     "execution_count": 39,
     "metadata": {},
     "output_type": "execute_result"
    }
   ],
   "source": [
    "with open ('file1.txt', mode='rb') as file:\n",
    "     print(file.readlines())\n",
    "file.closed"
   ]
  }
 ],
 "metadata": {
  "kernelspec": {
   "display_name": "Python 3.10.7 64-bit",
   "language": "python",
   "name": "python3"
  },
  "language_info": {
   "codemirror_mode": {
    "name": "ipython",
    "version": 3
   },
   "file_extension": ".py",
   "mimetype": "text/x-python",
   "name": "python",
   "nbconvert_exporter": "python",
   "pygments_lexer": "ipython3",
   "version": "3.10.7"
  },
  "orig_nbformat": 4,
  "vscode": {
   "interpreter": {
    "hash": "c19fa61d258bb2b35aae2ada233c33e2817c1ce895aa48acba720c6bf7cbe3cb"
   }
  }
 },
 "nbformat": 4,
 "nbformat_minor": 2
}
